{
 "cells": [
  {
   "cell_type": "code",
   "execution_count": 1,
   "metadata": {},
   "outputs": [],
   "source": [
    "import dataClean\n",
    "import numpy as np\n",
    "import pandas as pd"
   ]
  },
  {
   "cell_type": "code",
   "execution_count": 2,
   "metadata": {},
   "outputs": [
    {
     "name": "stdout",
     "output_type": "stream",
     "text": [
      "Before:  (5671, 74)\n",
      "After delete:  (3488, 74)\n"
     ]
    }
   ],
   "source": [
    "dataClean.create_dstinct_data()"
   ]
  },
  {
   "cell_type": "code",
   "execution_count": null,
   "metadata": {},
   "outputs": [],
   "source": [
    "dropOutColumn = ['CarName', 'MakeId', 'Url', 'FrontImagePath', 'PhotoCount', 'Price', 'Km', 'ModelName', 'VersionName', 'AdditionalFuel',\n",
    "                 'VideoCount', 'OfferStartDate', 'OfferEndDate', 'LastUpdatedOn', 'AreaName', 'CityId', 'StateName',\n",
    "                 'CertifiedLogoUrl', 'NoOfOwners', 'Emi', 'EmiFormatted', 'AbsureWarranty', 'AbsureScore', 'FinanceUrl',\n",
    "                 'MakeMapping', 'RootMapping', 'ApiFlag', 'MaskingNumber', 'SellerContact', 'HostUrl', 'OriginalImgPath',\n",
    "                 'CertificationId', 'InspectionText', 'HasWarranty', 'DealerQuickBloxId', 'NearbyCityText', 'NBCityStripId',\n",
    "                 'DeliveryText', 'DeliveryCity', 'IsNearbyCityListing', 'Responses', 'IsEligibleForFinance', 'ResponsesText',\n",
    "                 'MfgDate', 'ValuationUrl', 'CertificationScore', 'SellerNote', 'SellerName', 'IsHotDeal', 'MakeName', 'MakeMonth', 'InquiryId',\n",
    "                 'RootId', 'ModelId', 'VersionId', 'MaskingName', 'SubSegmentID', 'VersionSubSegmentID', 'IsPremium', 'IsPremiumPackage',\n",
    "                 'FinanceUrlText', 'SortScore']"
   ]
  },
  {
   "cell_type": "code",
   "execution_count": null,
   "metadata": {},
   "outputs": [],
   "source": [
    "raw_df = pd.read_csv('raw_data.csv')\n",
    "# raw_df.drop(dropOutColumn, axis=1, inplace=True)\n",
    "# raw_df.MaskingName.value_counts()\n",
    "# raw_df.columns\n",
    "# extra =pd.get_dummies(test)\n",
    "raw_df = raw_df[raw_df['KmNumeric'] < 1500000]\n",
    "raw_df = raw_df[raw_df['KmNumeric'] >0]\n",
    "raw_df[\"km_1\"] = 0\n",
    "raw_df.KmNumeric.describe()\n",
    "# raw_df['PriceNumeric'].groupby(raw_df['StateName']).describe().sort_values(['mean'])\n",
    "# raw_df.head"
   ]
  },
  {
   "cell_type": "code",
   "execution_count": null,
   "metadata": {},
   "outputs": [],
   "source": [
    "raw_df[\"km_1\"] = 0\n",
    "raw_df[\"km_2\"] = 0\n",
    "raw_df[\"km_3\"] = 0\n",
    "raw_df[\"km_4\"] = 0\n",
    "raw_df.loc[raw_df['KmNumeric'].between(114274, 1500000, inclusive=True),'km_1'] = 1\n",
    "raw_df.loc[raw_df['KmNumeric'].between(75363, 114273, inclusive=True),'km_2'] = 1\n",
    "raw_df.loc[raw_df['KmNumeric'].between(52215, 75362, inclusive=True),'km_3'] = 1\n",
    "raw_df.loc[raw_df['KmNumeric'].between(250, 52214, inclusive=True),'km_4'] = 1\n",
    "print(raw_df[\"km_1\"].value_counts())\n",
    "print(raw_df[\"km_2\"].value_counts())\n",
    "print(raw_df[\"km_3\"].value_counts())\n",
    "print(raw_df[\"km_4\"].value_counts())"
   ]
  },
  {
   "cell_type": "code",
   "execution_count": null,
   "metadata": {},
   "outputs": [],
   "source": [
    "dataClean.clean_trainig_data().select_dtypes(include=[np.number]).head()"
   ]
  },
  {
   "cell_type": "code",
   "execution_count": null,
   "metadata": {},
   "outputs": [],
   "source": []
  }
 ],
 "metadata": {
  "kernelspec": {
   "display_name": "Python 2",
   "language": "python",
   "name": "python2"
  },
  "language_info": {
   "codemirror_mode": {
    "name": "ipython",
    "version": 2
   },
   "file_extension": ".py",
   "mimetype": "text/x-python",
   "name": "python",
   "nbconvert_exporter": "python",
   "pygments_lexer": "ipython2",
   "version": "2.7.10"
  }
 },
 "nbformat": 4,
 "nbformat_minor": 2
}

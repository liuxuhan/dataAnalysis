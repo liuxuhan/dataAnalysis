{
 "cells": [
  {
   "cell_type": "code",
   "execution_count": 14,
   "metadata": {},
   "outputs": [
    {
     "name": "stdout",
     "output_type": "stream",
     "text": [
      "   KmNumeric  MakeYear  OwnerTypeId  BodyStyleId  enc_seller  enc_gearBox  \\\n",
      "0   0.049956   0.28971            1            1           1            1   \n",
      "\n",
      "   enc_fuel  enc_color_silver  enc_color_white  enc_color_grey  \\\n",
      "0         1                 0                0               0   \n",
      "\n",
      "        ...        enc_city_mumbai  enc_city_bangalore  enc_city_hyderabad  \\\n",
      "0       ...                      0                   0                   0   \n",
      "\n",
      "   enc_city_chennai  enc_city_thane  enc_city_other  enc_name_innova  \\\n",
      "0                 1               0               0                0   \n",
      "\n",
      "   enc_name_fortuner  enc_name_corolla  enc_name_etios  \n",
      "0                  0                 0               1  \n",
      "\n",
      "[1 rows x 25 columns]\n",
      "502127.68\n"
     ]
    }
   ],
   "source": [
    "from sklearn.externals import joblib\n",
    "import pandas as pd\n",
    "import numpy as np\n",
    "from dataClean import *\n",
    "\n",
    "clf = joblib.load('svr.pkl') \n",
    "x = pd.read_csv(\"num_X.csv\")\n",
    "print(x.iloc[:1,1:])\n",
    "x.iloc[:1,1:].to_csv(\"sample.csv\")\n",
    "price = round(np.exp(clf.predict(x.iloc[:1,1:])[0]),2)\n",
    "print(price)"
   ]
  },
  {
   "cell_type": "code",
   "execution_count": 9,
   "metadata": {},
   "outputs": [
    {
     "ename": "SystemExit",
     "evalue": "",
     "output_type": "error",
     "traceback": [
      "An exception has occurred, use %tb to see the full traceback.\n",
      "\u001b[0;31mSystemExit\u001b[0m\n"
     ]
    },
    {
     "name": "stderr",
     "output_type": "stream",
     "text": [
      "/anaconda3/lib/python3.6/site-packages/IPython/core/interactiveshell.py:2870: UserWarning: To exit: use 'exit', 'quit', or Ctrl-D.\n",
      "  warn(\"To exit: use 'exit', 'quit', or Ctrl-D.\", stacklevel=1)\n"
     ]
    }
   ],
   "source": [
    "cleanColumn()"
   ]
  },
  {
   "cell_type": "code",
   "execution_count": null,
   "metadata": {},
   "outputs": [],
   "source": []
  }
 ],
 "metadata": {
  "kernelspec": {
   "display_name": "Python 3",
   "language": "python",
   "name": "python3"
  },
  "language_info": {
   "codemirror_mode": {
    "name": "ipython",
    "version": 3
   },
   "file_extension": ".py",
   "mimetype": "text/x-python",
   "name": "python",
   "nbconvert_exporter": "python",
   "pygments_lexer": "ipython3",
   "version": "3.6.2"
  }
 },
 "nbformat": 4,
 "nbformat_minor": 2
}
